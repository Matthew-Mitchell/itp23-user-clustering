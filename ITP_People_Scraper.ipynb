{
 "cells": [
  {
   "cell_type": "code",
   "execution_count": 185,
   "metadata": {},
   "outputs": [],
   "source": [
    "from selenium import webdriver\n",
    "import time\n",
    "import re\n",
    "import datetime\n",
    "import os\n",
    "from bs4 import BeautifulSoup\n",
    "import numpy as np\n",
    "import itp_creds\n",
    "import pandas as pd\n",
    "from sklearn.feature_extraction.text import TfidfVectorizer\n",
    "import seaborn as sns\n",
    "import matplotlib.pyplot as plt"
   ]
  },
  {
   "cell_type": "code",
   "execution_count": 86,
   "metadata": {},
   "outputs": [],
   "source": [
    "geckoDriverPath = '/Users/matthewmitchell/Documents/Projects/Tools/Python/Scraping/geckodriver'"
   ]
  },
  {
   "cell_type": "code",
   "execution_count": 150,
   "metadata": {},
   "outputs": [],
   "source": [
    "driver = webdriver.Firefox(executable_path=geckoDriverPath)\n",
    "driver.get(\"https://itp.nyu.edu/camp2023/people\")"
   ]
  },
  {
   "cell_type": "markdown",
   "metadata": {},
   "source": [
    "## Proceed to Login / Navigate Back to People Page"
   ]
  },
  {
   "cell_type": "code",
   "execution_count": 97,
   "metadata": {},
   "outputs": [],
   "source": [
    "def sim_type(string, element):\n",
    "    for i in string:\n",
    "        element.send_keys(i)\n",
    "        pause = np.random.uniform(0,0.1)\n",
    "        time.sleep(pause)"
   ]
  },
  {
   "cell_type": "code",
   "execution_count": null,
   "metadata": {},
   "outputs": [],
   "source": [
    "email_input = driver.find_element_by_id(\"signin_email\")\n",
    "sim_type(itp_creds.u, email_input)"
   ]
  },
  {
   "cell_type": "code",
   "execution_count": 152,
   "metadata": {},
   "outputs": [],
   "source": [
    "password_input = driver.find_element_by_id(\"signin_password\")\n",
    "sim_type(itp_creds.p, password_input)"
   ]
  },
  {
   "cell_type": "code",
   "execution_count": 153,
   "metadata": {},
   "outputs": [],
   "source": [
    "signin_button = driver.find_element_by_xpath('//button[text()=\"Sign In\"]')"
   ]
  },
  {
   "cell_type": "code",
   "execution_count": 154,
   "metadata": {},
   "outputs": [],
   "source": [
    "signin_button.click()"
   ]
  },
  {
   "cell_type": "code",
   "execution_count": 155,
   "metadata": {},
   "outputs": [],
   "source": [
    "driver.get(\"https://itp.nyu.edu/camp2023/people\")"
   ]
  },
  {
   "cell_type": "code",
   "execution_count": 156,
   "metadata": {},
   "outputs": [],
   "source": [
    "cur_html = driver.page_source"
   ]
  },
  {
   "cell_type": "code",
   "execution_count": 157,
   "metadata": {},
   "outputs": [],
   "source": [
    "cur_url = driver.current_url"
   ]
  },
  {
   "cell_type": "code",
   "execution_count": 149,
   "metadata": {},
   "outputs": [],
   "source": [
    "#Close the Browser\n",
    "driver.close()"
   ]
  },
  {
   "cell_type": "markdown",
   "metadata": {},
   "source": [
    "## Save Current HTML to Disk"
   ]
  },
  {
   "cell_type": "code",
   "execution_count": 38,
   "metadata": {},
   "outputs": [
    {
     "name": "stdout",
     "output_type": "stream",
     "text": [
      "Finalized updated:\n",
      "itp-nyu-edu-camp2023-people\n"
     ]
    }
   ],
   "source": [
    "## Create Filename:\n",
    "def sub_all(pattern, sub_str, start_str):\n",
    "    update = re.sub(pattern, sub_str, start_str)\n",
    "    if update != start_str:\n",
    "        #recurse!\n",
    "        return sub_all(pattern, sub_str, update)\n",
    "    else:\n",
    "        return update\n",
    "\n",
    "cleaned_url = sub_all(\"[:/.]\",\"-\", cur_url.strip(\"https://\"))\n",
    "print(\"Finalized updated:\")\n",
    "print(cleaned_url)"
   ]
  },
  {
   "cell_type": "code",
   "execution_count": null,
   "metadata": {},
   "outputs": [],
   "source": [
    "root_dir = os.getcwd()"
   ]
  },
  {
   "cell_type": "code",
   "execution_count": 76,
   "metadata": {},
   "outputs": [],
   "source": [
    "def snapshot_page_html(html, url):\n",
    "    #Clean URL For SubFolder Creation\n",
    "    cleaned_url = sub_all(\"[:/.]\",\"-\", cur_url.strip(\"https://\"))\n",
    "    \n",
    "    #Get CWD\n",
    "    root_dir = os.getcwd()\n",
    "    \n",
    "    #Create SubFolder (if Necessary)\n",
    "    os.chdir(root_dir)\n",
    "    if os.path.isdir(cleaned_url):\n",
    "        os.chdir(cleaned_url)\n",
    "    else:\n",
    "        os.mkdir(cleaned_url)\n",
    "        os.chdir(cleaned_url)\n",
    "        \n",
    "    #Record Snapshot Time\n",
    "    time_now = datetime.datetime.now().strftime(\"%m-%d-%y_%H%M%p\")\n",
    "    \n",
    "    #Create Filename\n",
    "    filename = \"WebPageSnapshot_{}.html\".format(time_now)\n",
    "    \n",
    "    #Write HTML to File\n",
    "    if os.path.isfile(filename):\n",
    "        print(\"File already exists.\")\n",
    "        os.chdir(root_dir)\n",
    "        return None\n",
    "    with open(filename, \"w\") as f:\n",
    "        f.write(cur_html)\n",
    "        \n",
    "    #Return to Original Directory\n",
    "    os.chdir(root_dir)"
   ]
  },
  {
   "cell_type": "code",
   "execution_count": 114,
   "metadata": {},
   "outputs": [],
   "source": [
    "os.chdir(root_dir)"
   ]
  },
  {
   "cell_type": "code",
   "execution_count": 158,
   "metadata": {},
   "outputs": [
    {
     "data": {
      "text/plain": [
       "'/Users/matthewmitchell/Documents/ITP Camp'"
      ]
     },
     "execution_count": 158,
     "metadata": {},
     "output_type": "execute_result"
    }
   ],
   "source": [
    "os.getcwd()"
   ]
  },
  {
   "cell_type": "code",
   "execution_count": 159,
   "metadata": {},
   "outputs": [
    {
     "data": {
      "text/plain": [
       "['Ex_Default_Project.1.toe',\n",
       " '7A7A5008.JPG',\n",
       " 'Ex_Default_Project.toe',\n",
       " 'Show One Thing Show 2023.pdf',\n",
       " '__pycache__',\n",
       " 'itp-nyu-edu-camp2023-people',\n",
       " 'geckodriver.log',\n",
       " '.ipynb_checkpoints',\n",
       " '7A7A5007.JPG',\n",
       " 'ITP People Bio Scraper.ipynb',\n",
       " '7A7A4732.JPG',\n",
       " 'itp_creds.py']"
      ]
     },
     "execution_count": 159,
     "metadata": {},
     "output_type": "execute_result"
    }
   ],
   "source": [
    "os.listdir()"
   ]
  },
  {
   "cell_type": "code",
   "execution_count": 163,
   "metadata": {},
   "outputs": [
    {
     "data": {
      "text/plain": [
       "['WebPageSnapshot_06-07-23_2244PM.html',\n",
       " 'WebPageSnapshot_06-07-23_2245PM.html',\n",
       " 'WebPageSnapshot_06-07-23_2246PM.html',\n",
       " 'WebPageSnapshot_06-07-23_2247PM.html',\n",
       " 'WebPageSnapshot_06-07-23_2305PM.html',\n",
       " 'WebPageSnapshot_06-07-23_2321PM.html']"
      ]
     },
     "execution_count": 163,
     "metadata": {},
     "output_type": "execute_result"
    }
   ],
   "source": [
    "sorted(os.listdir('itp-nyu-edu-camp2023-people'))"
   ]
  },
  {
   "cell_type": "code",
   "execution_count": 164,
   "metadata": {},
   "outputs": [],
   "source": [
    "snapshot_page_html(cur_html, cur_url)"
   ]
  },
  {
   "cell_type": "markdown",
   "metadata": {},
   "source": [
    "## Above Could Now Be Deployed on Regulard Crontab Job"
   ]
  },
  {
   "cell_type": "markdown",
   "metadata": {},
   "source": [
    "## Sample Parse"
   ]
  },
  {
   "cell_type": "code",
   "execution_count": 119,
   "metadata": {},
   "outputs": [],
   "source": [
    "soup = BeautifulSoup(cur_html)"
   ]
  },
  {
   "cell_type": "code",
   "execution_count": 167,
   "metadata": {},
   "outputs": [
    {
     "name": "stdout",
     "output_type": "stream",
     "text": [
      "258\n"
     ]
    },
    {
     "data": {
      "text/plain": [
       "[('Abby Schmiedt', ''),\n",
       " ('Ada Varriale (she/her)',\n",
       "  'from italy, living in Amsterdam and doing a master in experimental publishing in Rotterdam(xpub.nl if...'),\n",
       " ('Addison Worthington', ''),\n",
       " ('Adeline Setiawan', ''),\n",
       " ('Adnan', '')]"
      ]
     },
     "execution_count": 167,
     "metadata": {},
     "output_type": "execute_result"
    }
   ],
   "source": [
    "people_divs = soup.find_all(\"div\", {\"class\": \"userListItem\"})\n",
    "print(len(people_divs))\n",
    "\n",
    "people = []\n",
    "for div in people_divs:\n",
    "    profile_info = div.find_all(\"p\", {\"class\":\"profileInfo\"})[0]\n",
    "    name = profile_info.get_text().strip().split(\"   \")[0]\n",
    "    shortAbout = profile_info.find(\"span\", {\"class\":\"shortAbout\"})\n",
    "    shortAbout = shortAbout.get_text()\n",
    "    people.append((name, shortAbout))\n",
    "people[:5]"
   ]
  },
  {
   "cell_type": "code",
   "execution_count": 169,
   "metadata": {},
   "outputs": [
    {
     "name": "stdout",
     "output_type": "stream",
     "text": [
      "258\n"
     ]
    },
    {
     "data": {
      "text/html": [
       "<div>\n",
       "<style scoped>\n",
       "    .dataframe tbody tr th:only-of-type {\n",
       "        vertical-align: middle;\n",
       "    }\n",
       "\n",
       "    .dataframe tbody tr th {\n",
       "        vertical-align: top;\n",
       "    }\n",
       "\n",
       "    .dataframe thead th {\n",
       "        text-align: right;\n",
       "    }\n",
       "</style>\n",
       "<table border=\"1\" class=\"dataframe\">\n",
       "  <thead>\n",
       "    <tr style=\"text-align: right;\">\n",
       "      <th></th>\n",
       "      <th>Name</th>\n",
       "      <th>shortAbout</th>\n",
       "    </tr>\n",
       "  </thead>\n",
       "  <tbody>\n",
       "    <tr>\n",
       "      <th>0</th>\n",
       "      <td>Abby Schmiedt</td>\n",
       "      <td></td>\n",
       "    </tr>\n",
       "    <tr>\n",
       "      <th>1</th>\n",
       "      <td>Ada Varriale (she/her)</td>\n",
       "      <td>from italy, living in Amsterdam and doing a ma...</td>\n",
       "    </tr>\n",
       "    <tr>\n",
       "      <th>2</th>\n",
       "      <td>Addison Worthington</td>\n",
       "      <td></td>\n",
       "    </tr>\n",
       "    <tr>\n",
       "      <th>3</th>\n",
       "      <td>Adeline Setiawan</td>\n",
       "      <td></td>\n",
       "    </tr>\n",
       "    <tr>\n",
       "      <th>4</th>\n",
       "      <td>Adnan</td>\n",
       "      <td></td>\n",
       "    </tr>\n",
       "  </tbody>\n",
       "</table>\n",
       "</div>"
      ],
      "text/plain": [
       "                     Name                                         shortAbout\n",
       "0           Abby Schmiedt                                                   \n",
       "1  Ada Varriale (she/her)  from italy, living in Amsterdam and doing a ma...\n",
       "2     Addison Worthington                                                   \n",
       "3        Adeline Setiawan                                                   \n",
       "4                   Adnan                                                   "
      ]
     },
     "execution_count": 169,
     "metadata": {},
     "output_type": "execute_result"
    }
   ],
   "source": [
    "df = pd.DataFrame(people)\n",
    "print(len(df))\n",
    "df.columns = ['Name','shortAbout']\n",
    "df.head()"
   ]
  },
  {
   "cell_type": "markdown",
   "metadata": {},
   "source": [
    "## Filter Out Null Bios...."
   ]
  },
  {
   "cell_type": "code",
   "execution_count": 174,
   "metadata": {},
   "outputs": [
    {
     "data": {
      "text/plain": [
       "True     172\n",
       "False     86\n",
       "Name: shortAbout, dtype: int64"
      ]
     },
     "execution_count": 174,
     "metadata": {},
     "output_type": "execute_result"
    }
   ],
   "source": [
    "temp = df.shortAbout == \"\"\n",
    "temp.value_counts()"
   ]
  },
  {
   "cell_type": "code",
   "execution_count": 175,
   "metadata": {},
   "outputs": [
    {
     "name": "stdout",
     "output_type": "stream",
     "text": [
      "86\n"
     ]
    },
    {
     "data": {
      "text/plain": [
       "['from italy, living in Amsterdam and doing a master in experimental publishing in Rotterdam(xpub.nl if...',\n",
       " 'Administrative Aide II',\n",
       " \"I'm a professional editor and writer, semi-professional crafter, and deeply amateur game developer.\",\n",
       " \"Hi campers! I'm a lecturer at UMD College Park, where I do graduate classes on interaction design and...\",\n",
       " \"Hello! I'm a project manager, and budding creative technologist, at a retail tech lab (Brand Experience...\"]"
      ]
     },
     "execution_count": 175,
     "metadata": {},
     "output_type": "execute_result"
    }
   ],
   "source": [
    "corpus = list(df[df.shortAbout!=\"\"].shortAbout)\n",
    "print(len(corpus))\n",
    "corpus[:5]"
   ]
  },
  {
   "cell_type": "markdown",
   "metadata": {},
   "source": [
    "## TF-IDF on shortAbout Corpus\n",
    "https://stackoverflow.com/questions/8897593/how-to-compute-the-similarity-between-two-text-documents"
   ]
  },
  {
   "cell_type": "code",
   "execution_count": 178,
   "metadata": {},
   "outputs": [],
   "source": [
    "vect = TfidfVectorizer(min_df=1, stop_words=\"english\")                                                                                                                                                                                                   \n",
    "tfidf = vect.fit_transform(corpus)                                                                                                                                                                                                                       \n",
    "pairwise_similarity = tfidf * tfidf.T"
   ]
  },
  {
   "cell_type": "code",
   "execution_count": 181,
   "metadata": {},
   "outputs": [
    {
     "data": {
      "text/plain": [
       "array([[1., 0., 0., ..., 0., 0., 0.],\n",
       "       [0., 1., 0., ..., 0., 0., 0.],\n",
       "       [0., 0., 1., ..., 0., 0., 0.],\n",
       "       ...,\n",
       "       [0., 0., 0., ..., 1., 0., 0.],\n",
       "       [0., 0., 0., ..., 0., 1., 0.],\n",
       "       [0., 0., 0., ..., 0., 0., 1.]])"
      ]
     },
     "execution_count": 181,
     "metadata": {},
     "output_type": "execute_result"
    }
   ],
   "source": [
    "pairwise_similarity.toarray()"
   ]
  },
  {
   "cell_type": "markdown",
   "metadata": {},
   "source": [
    "## Visualizing Pairwise Similarities"
   ]
  },
  {
   "cell_type": "code",
   "execution_count": 186,
   "metadata": {},
   "outputs": [
    {
     "data": {
      "text/plain": [
       "<matplotlib.axes._subplots.AxesSubplot at 0x7f8470729f10>"
      ]
     },
     "execution_count": 186,
     "metadata": {},
     "output_type": "execute_result"
    },
    {
     "data": {
      "image/png": "[encoded data removed]",
      "text/plain": [
       "<Figure size 576x576 with 2 Axes>"
      ]
     },
     "metadata": {
      "needs_background": "light"
     },
     "output_type": "display_data"
    }
   ],
   "source": [
    "fig, ax = plt.subplots(figsize=(8,8))\n",
    "sns.heatmap(pairwise_similarity.toarray())"
   ]
  },
  {
   "cell_type": "markdown",
   "metadata": {},
   "source": [
    "## Basic Clustering with KMeans\n",
    "\n",
    "[Basic Tutorial from Kaggle](https://www.kaggle.com/code/jbencina/clustering-documents-with-tfidf-and-kmeans_)"
   ]
  },
  {
   "cell_type": "code",
   "execution_count": null,
   "metadata": {},
   "outputs": [],
   "source": []
  },
  {
   "cell_type": "markdown",
   "metadata": {},
   "source": [
    "## Network Visualization with TSNE"
   ]
  },
  {
   "cell_type": "code",
   "execution_count": null,
   "metadata": {},
   "outputs": [],
   "source": []
  },
  {
   "cell_type": "markdown",
   "metadata": {},
   "source": [
    "## Adding User Names to Cluster Diagram"
   ]
  },
  {
   "cell_type": "code",
   "execution_count": null,
   "metadata": {},
   "outputs": [],
   "source": []
  },
  {
   "cell_type": "markdown",
   "metadata": {},
   "source": [
    "## SlackBot Integration..."
   ]
  },
  {
   "cell_type": "code",
   "execution_count": null,
   "metadata": {},
   "outputs": [],
   "source": []
  }
 ],
 "metadata": {
  "kernelspec": {
   "display_name": "Python 3 (ipykernel)",
   "language": "python",
   "name": "python3"
  },
  "language_info": {
   "codemirror_mode": {
    "name": "ipython",
    "version": 3
   },
   "file_extension": ".py",
   "mimetype": "text/x-python",
   "name": "python",
   "nbconvert_exporter": "python",
   "pygments_lexer": "ipython3",
   "version": "3.7.4"
  }
 },
 "nbformat": 4,
 "nbformat_minor": 2
}
